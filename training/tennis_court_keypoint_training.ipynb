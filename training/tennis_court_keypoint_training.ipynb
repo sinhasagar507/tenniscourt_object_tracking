{
 "cells": [
  {
   "cell_type": "markdown",
   "metadata": {},
   "source": [
    "## Start Code"
   ]
  },
  {
   "cell_type": "code",
   "execution_count": 12,
   "metadata": {},
   "outputs": [],
   "source": [
    "# Import necessary libraries\n",
    "import json\n",
    "import torch\n",
    "from torch.utils.data import Dataset, DataLoader\n",
    "from torchvision import models, transforms\n",
    "import cv2\n",
    "import numpy as np"
   ]
  },
  {
   "cell_type": "code",
   "execution_count": 8,
   "metadata": {},
   "outputs": [
    {
     "name": "stdout",
     "output_type": "stream",
     "text": []
    }
   ],
   "source": [
    "# Check for CUDA first\n",
    "if torch.cuda.is_available():\n",
    "    device = torch.device(\"cuda\")\n",
    "# If CUDA is unavailable, check for MPS (Apple Silicon GPUs)\n",
    "elif torch.backends.mps.is_available():\n",
    "    device = torch.device(\"mps\")\n",
    "# Default to CPU if neither CUDA nor MPS is available\n",
    "else:\n",
    "    device = torch.device(\"cpu\")\n",
    "# Print the selected device\n",
    "print(device)"
   ]
  },
  {
   "cell_type": "markdown",
   "metadata": {},
   "source": [
    "## Create Torch Dataset"
   ]
  },
  {
   "cell_type": "code",
   "execution_count": 13,
   "metadata": {},
   "outputs": [],
   "source": [
    "# Define a custom Dataset class for keypoints\n",
    "class KeypointsDataset(Dataset):\n",
    "    def __init__(self, img_dir, data_file):\n",
    "        # Initialize with image directory and optional transform\n",
    "        self.img_dir = img_dir\n",
    "        \n",
    "        # Read image file names from the directory\n",
    "        with open(data_file, 'r') as f:\n",
    "            self.data = json.load(f)\n",
    "            \n",
    "        # Define a series of transformations to apply to the images\n",
    "        self.transform = transforms.Compose([\n",
    "            transforms.ToPILImage(),\n",
    "            transforms.Resize((224, 224)),\n",
    "            transforms.ToTensor(), \n",
    "            transforms.Normalize(mean=[0.485, 0.456, 0.406], # Mean and standard deviation for ImageNet\n",
    "                                 std=[0.229, 0.224, 0.225])\n",
    "        ])\n",
    "        \n",
    "    def __len__(self):\n",
    "        return len(self.data)\n",
    "    \n",
    "    def __getitem__(self, idx):\n",
    "        item = self.data[idx]\n",
    "        img = cv2.imread(f'''{self.img_dir}/{item[\"id\"]}.png''')\n",
    "        h, w = img.shape[:2] # Get the height and width of the image\n",
    "        \n",
    "        img = cv2.cvtColor(img, cv2.COLOR_BGR2RGB) # Convert the image to RGB\n",
    "        img = self.transform(img) # Apply the transformations\n",
    "\n",
    "        kps = np.array(item[\"kps\"], dtype=np.float32).flatten()  # Ensure float dtype\n",
    "        kps[::2] *= 224.0 / w # adjust x-coordinates of the keypoints to match the resized image\n",
    "        kps[1::2] *= 224.0 / h # adjust y-coordinates of the keypoints to match the resized image\n",
    "        \n",
    "        return img, kps # Return the image and keypoints"
   ]
  },
  {
   "cell_type": "code",
   "execution_count": 14,
   "metadata": {},
   "outputs": [],
   "source": [
    "train_images_path = \"/Applications/saggydev/projects_learning/video-analytics-project/tennis_analysis_reproduce/data/tennis_keypoints_data/images/\"\n",
    "train_details_path = \"/Applications/saggydev/projects_learning/video-analytics-project/tennis_analysis_reproduce/data/tennis_keypoints_data/data_train.json\"\n",
    "valid_images_path = \"/Applications/saggydev/projects_learning/video-analytics-project/tennis_analysis_reproduce/data/tennis_keypoints_data/images\"\n",
    "valid_details_path = \"/Applications/saggydev/projects_learning/video-analytics-project/tennis_analysis_reproduce/data/tennis_keypoints_data/data_val.json\""
   ]
  },
  {
   "cell_type": "code",
   "execution_count": 15,
   "metadata": {},
   "outputs": [],
   "source": [
    "train_dataset = KeypointsDataset(train_images_path, train_details_path)\n",
    "valid_dataset = KeypointsDataset(valid_images_path, valid_details_path)\n",
    "\n",
    "train_loader = DataLoader(train_dataset, batch_size=32, shuffle=True)\n",
    "valid_loader = DataLoader(valid_dataset, batch_size=32, shuffle=True)"
   ]
  },
  {
   "cell_type": "markdown",
   "metadata": {},
   "source": [
    "## Create Model"
   ]
  },
  {
   "cell_type": "code",
   "execution_count": 16,
   "metadata": {},
   "outputs": [
    {
     "name": "stdout",
     "output_type": "stream",
     "text": []
    },
    {
     "name": "stdout",
     "output_type": "stream",
     "text": []
    },
    {
     "name": "stdout",
     "output_type": "stream",
     "text": []
    }
   ],
   "source": [
    "model = models.resnet50(pretrained=True)\n",
    "model.fc = torch.nn.Linear(model.fc.in_features, 14*2) # Replaces the last layer\n",
    "model = model.to(device)"
   ]
  },
  {
   "cell_type": "markdown",
   "metadata": {},
   "source": [
    "## Train the model"
   ]
  },
  {
   "cell_type": "code",
   "execution_count": 17,
   "metadata": {},
   "outputs": [],
   "source": [
    "criterion = torch.nn.MSELoss()\n",
    "optimizer = torch.optim.Adam(model.parameters(), lr=0.001)"
   ]
  },
  {
   "cell_type": "code",
   "execution_count": 18,
   "metadata": {},
   "outputs": [
    {
     "name": "stdout",
     "output_type": "stream",
     "text": []
    }
   ],
   "source": [
    "epochs = 20\n",
    "for epoch in range(epochs):\n",
    "    for i, (imgs, kps) in enumerate(train_loader):\n",
    "        imgs, kps = imgs.to(device), kps.to(device)\n",
    "        \n",
    "        optimizer.zero_grad()\n",
    "        \n",
    "        outputs = model(imgs)\n",
    "        loss = criterion(outputs, kps)\n",
    "        \n",
    "        loss.backward()\n",
    "        optimizer.step()\n",
    "        \n",
    "        if i % 10 == 0:\n",
    "            print(f\"Epoch {epoch}, Batch {i}, Loss: {loss.item()}\")"
   ]
  },
  {
   "cell_type": "markdown",
   "metadata": {},
   "source": [
    "## Save the model"
   ]
  },
  {
   "cell_type": "code",
   "execution_count": 20,
   "metadata": {},
   "outputs": [],
   "source": [
    "torch.save(model.state_dict(), \"../models/keypoints_model.pth\")"
   ]
  }
 ],
 "metadata": {
  "kernelspec": {
   "display_name": ".venv",
   "language": "python",
   "name": "python3"
  },
  "language_info": {
   "codemirror_mode": {
    "name": "ipython",
    "version": 3
   },
   "file_extension": ".py",
   "mimetype": "text/x-python",
   "name": "python",
   "nbconvert_exporter": "python",
   "pygments_lexer": "ipython3",
   "version": "3.12.6"
  }
 },
 "nbformat": 4,
 "nbformat_minor": 2
}
